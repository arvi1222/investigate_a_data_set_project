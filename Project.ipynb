{
 "cells": [
  {
   "cell_type": "markdown",
   "metadata": {},
   "source": [
    "Let's begin by brainstorming a few questions to answer with this data set.\n",
    "\n",
    "1. What factors made people more likely to survive?\n",
    "2. What were the demographics of each ticket class?\n",
    "3. Were children more likely to survive if they traveled with a parent, a nanny, or both?\n",
    "4. Graph the ticket price vs. survival rate\n",
    "5. Graph family members vs. survival rate\n",
    "6. Chivalry...did women and children survive more?\n",
    "\n",
    "I find the first question to be the most interesting, and we will probably answer many of the other questions while investigating that one."
   ]
  },
  {
   "cell_type": "code",
   "execution_count": 35,
   "metadata": {
    "collapsed": false
   },
   "outputs": [
    {
     "name": "stdout",
     "output_type": "stream",
     "text": [
      "   PassengerId  Survived  Pclass  \\\n",
      "0            1         0       3   \n",
      "1            2         1       1   \n",
      "2            3         1       3   \n",
      "3            4         1       1   \n",
      "4            5         0       3   \n",
      "\n",
      "                                                Name     Sex   Age  SibSp  \\\n",
      "0                            Braund, Mr. Owen Harris    male  22.0      1   \n",
      "1  Cumings, Mrs. John Bradley (Florence Briggs Th...  female  38.0      1   \n",
      "2                             Heikkinen, Miss. Laina  female  26.0      0   \n",
      "3       Futrelle, Mrs. Jacques Heath (Lily May Peel)  female  35.0      1   \n",
      "4                           Allen, Mr. William Henry    male  35.0      0   \n",
      "\n",
      "   Parch            Ticket     Fare Cabin Embarked  \n",
      "0      0         A/5 21171   7.2500   NaN        S  \n",
      "1      0          PC 17599  71.2833   C85        C  \n",
      "2      0  STON/O2. 3101282   7.9250   NaN        S  \n",
      "3      0            113803  53.1000  C123        S  \n",
      "4      0            373450   8.0500   NaN        S  \n",
      "891\n",
      "       PassengerId    Survived      Pclass         Age       SibSp  \\\n",
      "count   891.000000  891.000000  891.000000  714.000000  891.000000   \n",
      "mean    446.000000    0.383838    2.308642   29.699118    0.523008   \n",
      "std     257.353842    0.486592    0.836071   14.526497    1.102743   \n",
      "min       1.000000    0.000000    1.000000    0.420000    0.000000   \n",
      "25%     223.500000    0.000000    2.000000   20.125000    0.000000   \n",
      "50%     446.000000    0.000000    3.000000   28.000000    0.000000   \n",
      "75%     668.500000    1.000000    3.000000   38.000000    1.000000   \n",
      "max     891.000000    1.000000    3.000000   80.000000    8.000000   \n",
      "\n",
      "            Parch        Fare  \n",
      "count  891.000000  891.000000  \n",
      "mean     0.381594   32.204208  \n",
      "std      0.806057   49.693429  \n",
      "min      0.000000    0.000000  \n",
      "25%      0.000000    7.910400  \n",
      "50%      0.000000   14.454200  \n",
      "75%      0.000000   31.000000  \n",
      "max      6.000000  512.329200  \n"
     ]
    }
   ],
   "source": [
    "#parse csv and investigate csv\n",
    "\n",
    "import pandas as pd\n",
    "\n",
    "filename = '/Users/Arvi/Desktop/Data_Analyst/Investigate_A_Data_Set/Project/titanic-data.csv'\n",
    "\n",
    "titanic_df = pd.read_csv(filename)\n",
    "print(titanic_df.head())\n",
    "print(len(titanic_df))\n",
    "\n",
    "#get basic information about csv info\n",
    "print(titanic_df.describe())\n",
    "\n",
    "\n"
   ]
  },
  {
   "cell_type": "code",
   "execution_count": 37,
   "metadata": {
    "collapsed": false
   },
   "outputs": [
    {
     "name": "stdout",
     "output_type": "stream",
     "text": [
      "   Survived  PassengerId    Pclass        Age     SibSp     Parch       Fare\n",
      "0         0   447.016393  2.531876  30.626179  0.553734  0.329690  22.117887\n",
      "1         1   444.368421  1.950292  28.343690  0.473684  0.464912  48.395408\n"
     ]
    }
   ],
   "source": [
    "#averages for survivors vs. non-survivors\n",
    "\n",
    "survivor_groupings = titanic_df.groupby('Survived', as_index=False)\n",
    "\n",
    "print(survivor_groupings.mean())\n",
    "\n"
   ]
  },
  {
   "cell_type": "markdown",
   "metadata": {},
   "source": [
    "Taking the means of the numerical data gave some interesting information. Survivors were on average in a ticket class and paid more than double the fare as non-survivors. This leads me to believe that wealth was a good determiner of whether one survived or not."
   ]
  },
  {
   "cell_type": "code",
   "execution_count": 42,
   "metadata": {
    "collapsed": false,
    "scrolled": true
   },
   "outputs": [
    {
     "name": "stdout",
     "output_type": "stream",
     "text": [
      "Sex\n",
      "female    0.742038\n",
      "male      0.188908\n",
      "Name: Survived, dtype: float64\n",
      "                 PassengerId    Pclass        Age     SibSp     Parch  \\\n",
      "Sex    Survived                                                         \n",
      "female 0          434.851852  2.851852  25.046875  1.209877  1.037037   \n",
      "       1          429.699571  1.918455  28.847716  0.515021  0.515021   \n",
      "male   0          449.121795  2.476496  31.618056  0.440171  0.207265   \n",
      "       1          475.724771  2.018349  27.276022  0.385321  0.357798   \n",
      "\n",
      "                      Fare  \n",
      "Sex    Survived             \n",
      "female 0         23.024385  \n",
      "       1         51.938573  \n",
      "male   0         21.960993  \n",
      "       1         40.821484  \n"
     ]
    },
    {
     "data": {
      "text/plain": [
       "Sex     Survived\n",
       "female  0            81\n",
       "        1           233\n",
       "male    0           468\n",
       "        1           109\n",
       "dtype: int64"
      ]
     },
     "execution_count": 42,
     "metadata": {},
     "output_type": "execute_result"
    }
   ],
   "source": [
    "#Were men or women more likely to survive?\n",
    "\n",
    "gender_groups = titanic_df.groupby('Sex')\n",
    "\n",
    "print(gender_groups['Survived'].mean())\n",
    "\n",
    "gender_survived_groups = titanic_df.groupby(['Sex', 'Survived'])\n",
    "\n",
    "print(gender_survived_groups.mean())\n",
    "\n",
    "gender_survived_groups.apply(len)"
   ]
  },
  {
   "cell_type": "markdown",
   "metadata": {},
   "source": [
    "It appears that the average female survivor was older than non-survivors. Opposite was true for males. Could this be that younger men were more athletic, but older women were given priority to life boats?\n",
    "\n",
    "Earlier, it was shown that wealth and class was a good determiner on survival rates, however, men and women survival rates among fare and class were similar, so gender was very likely a determiner of survival. "
   ]
  },
  {
   "cell_type": "code",
   "execution_count": 40,
   "metadata": {
    "collapsed": false,
    "scrolled": true
   },
   "outputs": [
    {
     "name": "stdout",
     "output_type": "stream",
     "text": [
      "Embarked\n",
      "C    0.553571\n",
      "Q    0.389610\n",
      "S    0.336957\n",
      "Name: Survived, dtype: float64\n"
     ]
    },
    {
     "data": {
      "text/plain": [
       "Embarked  Survived\n",
       "C         0            75\n",
       "          1            93\n",
       "Q         0            47\n",
       "          1            30\n",
       "S         0           427\n",
       "          1           217\n",
       "dtype: int64"
      ]
     },
     "execution_count": 40,
     "metadata": {},
     "output_type": "execute_result"
    }
   ],
   "source": [
    "#Which port was more likely to survive?\n",
    "\n",
    "port_groups = titanic_df.groupby('Embarked')\n",
    "\n",
    "print(port_groups['Survived'].mean())\n",
    "\n",
    "port_survived_groups = titanic_df.groupby(['Embarked', 'Survived'])\n",
    "\n",
    "port_survived_groups.mean()\n",
    "port_survived_groups.apply(len)"
   ]
  },
  {
   "cell_type": "markdown",
   "metadata": {},
   "source": [
    "In contrast to gender, it appears that Cherbourgian survivors paid higher fares than Queenstown and Southampton passengers. This could be the reason they have higher survival rates. "
   ]
  },
  {
   "cell_type": "code",
   "execution_count": 193,
   "metadata": {
    "collapsed": false
   },
   "outputs": [
    {
     "name": "stdout",
     "output_type": "stream",
     "text": [
      "Populating the interactive namespace from numpy and matplotlib\n"
     ]
    },
    {
     "data": {
      "text/plain": [
       "<matplotlib.legend.Legend at 0x11a710690>"
      ]
     },
     "execution_count": 193,
     "metadata": {},
     "output_type": "execute_result"
    },
    {
     "data": {
      "image/png": "[encoded data removed]",
      "text/plain": [
       "<matplotlib.figure.Figure at 0x119e72f50>"
      ]
     },
     "metadata": {},
     "output_type": "display_data"
    }
   ],
   "source": [
    "#plot histogram of ticket price paid for survival vs non-survival\n",
    "\n",
    "import seaborn as sns\n",
    "import matplotlib.pyplot as plt\n",
    "\n",
    "%pylab inline\n",
    "\n",
    "survival_fare_list = titanic_df[titanic_df['Survived'] == 1]['Fare']\n",
    "non_survival_fare_list = titanic_df[titanic_df['Survived'] == 0]['Fare']\n",
    "plt.hist(survival_fare_list, bins=25, label='Survivor')\n",
    "plt.hist(non_survival_fare_list, bins=25, label='Non-Survivor')\n",
    "plt.title('Survivor vs. Non-survivor')\n",
    "plt.xlabel('Fare Paid')\n",
    "plt.ylabel('Frequency')\n",
    "plt.legend()"
   ]
  },
  {
   "cell_type": "code",
   "execution_count": 194,
   "metadata": {
    "collapsed": false
   },
   "outputs": [
    {
     "name": "stdout",
     "output_type": "stream",
     "text": [
      "[  0.  10.  20.  30.  40.  50.  60.  70.  80.]\n",
      "   PassengerId  Survived    Pclass        Age     SibSp     Parch        Fare\n",
      "1   335.700000  0.800000  2.000000   2.892000  0.900000  1.300000   55.459580\n",
      "2   535.473684  0.789474  1.105263  17.105263  0.684211  0.894737  108.503289\n",
      "3   422.972222  0.750000  1.333333  24.972222  0.444444  0.555556   83.994561\n",
      "4   463.775510  0.755102  1.163265  34.775510  0.387755  0.346939   85.281378\n",
      "5   489.090909  0.575758  1.060606  45.287879  0.424242  0.151515   61.346597\n",
      "6   458.458333  0.541667  1.041667  53.958333  0.375000  0.333333   72.655900\n",
      "7   359.111111  0.333333  1.000000  62.333333  0.444444  0.666667   75.145367\n",
      "8   421.500000  0.000000  1.000000  70.500000  0.500000  0.500000   52.827100\n",
      "9   631.000000  1.000000  1.000000  80.000000  0.000000  0.000000   30.000000\n",
      "1    10\n",
      "2    19\n",
      "3    36\n",
      "4    49\n",
      "5    33\n",
      "6    24\n",
      "7     9\n",
      "8     2\n",
      "9     1\n",
      "dtype: int64\n",
      "1    0.800000\n",
      "2    0.789474\n",
      "3    0.750000\n",
      "4    0.755102\n",
      "5    0.575758\n",
      "6    0.541667\n",
      "7    0.333333\n",
      "8    0.000000\n",
      "9    1.000000\n",
      "Name: Survived, dtype: float64\n"
     ]
    },
    {
     "data": {
      "text/plain": [
       "<matplotlib.text.Text at 0x11a746e50>"
      ]
     },
     "execution_count": 194,
     "metadata": {},
     "output_type": "execute_result"
    },
    {
     "data": {
      "image/png": "[encoded data removed]",
      "text/plain": [
       "<matplotlib.figure.Figure at 0x11b544e50>"
      ]
     },
     "metadata": {},
     "output_type": "display_data"
    }
   ],
   "source": [
    "#group ages by bins\n",
    "#website help: http://stackoverflow.com/questions/16947336/binning-a-dataframe-in-pandas-in-python\n",
    "\n",
    "bins = np.linspace(0, 80, 9) \n",
    "#Returns num evenly spaced samples, calculated over the interval [start, stop].\n",
    "\n",
    "print(bins)\n",
    "\n",
    "titanic_noNaN = titanic_df.dropna()\n",
    "age_groups_noNaN = titanic_noNaN.groupby(np.digitize(titanic_noNaN['Age'], bins))\n",
    "#Return the indices of the bins to which each value in input array belongs.\n",
    "\n",
    "\n",
    "print(age_groups_noNaN.mean())\n",
    "print(age_groups_noNaN.apply(len))\n",
    "\n",
    "#graph of survival rates\n",
    "print(age_groups_noNaN.mean()['Survived'])\n",
    "plt.plot(bins, age_groups_noNaN.mean()['Survived'], drawstyle='steps', fillstyle='left')\n",
    "plt.title('Survival Rates by Age')\n",
    "plt.xlabel('Age in Bins')\n",
    "plt.ylabel('Survival Rate')\n"
   ]
  },
  {
   "cell_type": "markdown",
   "metadata": {},
   "source": [
    "From the data, it appears that the rules of chivalry applied not only to women, but to children as well. Breaking the passengers into bins, we see that the older a passenger is, the less likely he/or she would survive. The only exception to this being the lone passenger over 80 years old who survived."
   ]
  },
  {
   "cell_type": "code",
   "execution_count": 148,
   "metadata": {
    "collapsed": false
   },
   "outputs": [
    {
     "data": {
      "text/plain": [
       "<matplotlib.legend.Legend at 0x119692490>"
      ]
     },
     "execution_count": 148,
     "metadata": {},
     "output_type": "execute_result"
    },
    {
     "data": {
      "image/png": "[encoded data removed]",
      "text/plain": [
       "<matplotlib.figure.Figure at 0x118bedb90>"
      ]
     },
     "metadata": {},
     "output_type": "display_data"
    }
   ],
   "source": [
    "#change to rates\n",
    "\n",
    "survival_age_list = titanic_df[titanic_df['Survived'] == 1]['Age'].dropna()\n",
    "non_survival_age_list = titanic_df[titanic_df['Survived'] == 0]['Age'].dropna()\n",
    "\n",
    "plt.hist(non_survival_age_list, label='Non-Survivor')\n",
    "plt.hist(survival_age_list, label='Survivor')\n",
    "plt.title('Survivor vs. Non-survivor')\n",
    "plt.xlabel('Age')\n",
    "plt.ylabel('Frequency')\n",
    "plt.legend()"
   ]
  },
  {
   "cell_type": "code",
   "execution_count": 131,
   "metadata": {
    "collapsed": false
   },
   "outputs": [
    {
     "name": "stdout",
     "output_type": "stream",
     "text": [
      "[[537, 38, 29, 1, 1, 2, 0], [123, 57, 19, 3, 3, 3, 1], [16, 7, 4, 1, 0, 0, 0], [2, 7, 7, 0, 0, 0, 0], [0, 9, 9, 0, 0, 0, 0], [0, 0, 5, 0, 0, 0, 0], [0, 0, 0, 0, 0, 0, 0], [0, 0, 0, 0, 0, 0, 0], [0, 0, 7, 0, 0, 0, 0]]\n"
     ]
    },
    {
     "data": {
      "text/plain": [
       "<matplotlib.collections.PathCollection at 0x118067410>"
      ]
     },
     "execution_count": 131,
     "metadata": {},
     "output_type": "execute_result"
    },
    {
     "data": {
      "image/png": "[encoded data removed]",
      "text/plain": [
       "<matplotlib.figure.Figure at 0x117c6d0d0>"
      ]
     },
     "metadata": {},
     "output_type": "display_data"
    }
   ],
   "source": [
    "# bubble graph of parents, siblings\n",
    "\n",
    "x=titanic_df['SibSp']\n",
    "y=titanic_df['Parch']\n",
    "\n",
    "freq = [[0,0,0,0,0,0,0],\n",
    "       [0,0,0,0,0,0,0],\n",
    "       [0,0,0,0,0,0,0],\n",
    "       [0,0,0,0,0,0,0],\n",
    "       [0,0,0,0,0,0,0],\n",
    "       [0,0,0,0,0,0,0],\n",
    "       [0,0,0,0,0,0,0],\n",
    "       [0,0,0,0,0,0,0],\n",
    "       [0,0,0,0,0,0,0]]\n",
    "\n",
    "\n",
    "\n",
    "#max sib 8, max parch 6\n",
    "\n",
    "for index, passenger in titanic_df.iterrows():\n",
    "    freq[passenger['SibSp']][passenger['Parch']] += 1\n",
    "    \n",
    "print(freq)\n",
    "    \n",
    "plt.scatter(x,y, s=freq)"
   ]
  },
  {
   "cell_type": "code",
   "execution_count": 135,
   "metadata": {
    "collapsed": false
   },
   "outputs": [
    {
     "name": "stdout",
     "output_type": "stream",
     "text": [
      "[[163, 25, 21, 1, 0, 0, 0], [64, 34, 12, 1, 0, 1, 0], [4, 6, 2, 1, 0, 0, 0], [2, 0, 2, 0, 0, 0, 0], [0, 0, 3, 0, 0, 0, 0], [0, 0, 0, 0, 0, 0, 0], [0, 0, 0, 0, 0, 0, 0], [0, 0, 0, 0, 0, 0, 0], [0, 0, 0, 0, 0, 0, 0]]\n",
      "[[374, 13, 8, 0, 1, 2, 0], [59, 23, 7, 2, 3, 2, 1], [12, 1, 2, 0, 0, 0, 0], [0, 7, 5, 0, 0, 0, 0], [0, 9, 6, 0, 0, 0, 0], [0, 0, 5, 0, 0, 0, 0], [0, 0, 0, 0, 0, 0, 0], [0, 0, 0, 0, 0, 0, 0], [0, 0, 7, 0, 0, 0, 0]]\n"
     ]
    },
    {
     "data": {
      "text/plain": [
       "<matplotlib.collections.PathCollection at 0x1188ced50>"
      ]
     },
     "execution_count": 135,
     "metadata": {},
     "output_type": "execute_result"
    },
    {
     "data": {
      "image/png": "[encoded data removed]",
      "text/plain": [
       "<matplotlib.figure.Figure at 0x1179c5710>"
      ]
     },
     "metadata": {},
     "output_type": "display_data"
    }
   ],
   "source": [
    "# bubble graph of parents, siblings based on survival\n",
    "\n",
    "survivors = titanic_df[titanic_df['Survived'] == 1]\n",
    "non_survivors = titanic_df[titanic_df['Survived'] == 0]\n",
    "\n",
    "x_survival=survivors['SibSp']\n",
    "y_survival=survivors['Parch']\n",
    "\n",
    "freq_survivors = [[0,0,0,0,0,0,0],\n",
    "       [0,0,0,0,0,0,0],\n",
    "       [0,0,0,0,0,0,0],\n",
    "       [0,0,0,0,0,0,0],\n",
    "       [0,0,0,0,0,0,0],\n",
    "       [0,0,0,0,0,0,0],\n",
    "       [0,0,0,0,0,0,0],\n",
    "       [0,0,0,0,0,0,0],\n",
    "       [0,0,0,0,0,0,0]]\n",
    "\n",
    "x_non_survival=non_survivors['SibSp']\n",
    "y_non_survival=non_survivors['Parch']\n",
    "\n",
    "freq_non_survivors = [[0,0,0,0,0,0,0],\n",
    "       [0,0,0,0,0,0,0],\n",
    "       [0,0,0,0,0,0,0],\n",
    "       [0,0,0,0,0,0,0],\n",
    "       [0,0,0,0,0,0,0],\n",
    "       [0,0,0,0,0,0,0],\n",
    "       [0,0,0,0,0,0,0],\n",
    "       [0,0,0,0,0,0,0],\n",
    "       [0,0,0,0,0,0,0]]\n",
    "\n",
    "\n",
    "\n",
    "#max sib 8, max parch 6\n",
    "\n",
    "for index, passenger in survivors.iterrows():\n",
    "    freq_survivors[passenger['SibSp']][passenger['Parch']] += 1\n",
    "    \n",
    "for index, passenger in non_survivors.iterrows():\n",
    "    freq_non_survivors[passenger['SibSp']][passenger['Parch']] += 1\n",
    "    \n",
    "print(freq_survivors)\n",
    "print(freq_non_survivors)\n",
    "    \n",
    "plt.scatter(x_survival,y_survival, s=freq_survivors, c='Green')\n",
    "plt.scatter(x_non_survival, y_non_survival, s=freq_non_survivors, c='Red')"
   ]
  },
  {
   "cell_type": "code",
   "execution_count": 137,
   "metadata": {
    "collapsed": false
   },
   "outputs": [
    {
     "data": {
      "text/plain": [
       "<matplotlib.collections.PathCollection at 0x118d4da90>"
      ]
     },
     "execution_count": 137,
     "metadata": {},
     "output_type": "execute_result"
    },
    {
     "data": {
      "image/png": "[encoded data removed]",
      "text/plain": [
       "<matplotlib.figure.Figure at 0x115fa8dd0>"
      ]
     },
     "metadata": {},
     "output_type": "display_data"
    }
   ],
   "source": [
    "plt.scatter(titanic_df['Age'], titanic_df['Survived'])"
   ]
  },
  {
   "cell_type": "code",
   "execution_count": 196,
   "metadata": {
    "collapsed": false
   },
   "outputs": [
    {
     "name": "stdout",
     "output_type": "stream",
     "text": [
      "        PassengerId  Survived        Age     SibSp     Parch       Fare\n",
      "Pclass                                                                 \n",
      "1        461.597222  0.629630  38.233441  0.416667  0.356481  84.154687\n",
      "2        445.956522  0.472826  29.877630  0.402174  0.380435  20.662183\n",
      "3        439.154786  0.242363  25.140620  0.615071  0.393075  13.675550\n"
     ]
    }
   ],
   "source": [
    "#ticket class demographics\n",
    "\n",
    "class_groups = titanic_df.groupby('Pclass')\n",
    "print(class_groups.mean())\n",
    "\n",
    "#find gender numbers"
   ]
  },
  {
   "cell_type": "code",
   "execution_count": null,
   "metadata": {
    "collapsed": true
   },
   "outputs": [],
   "source": []
  },
  {
   "cell_type": "code",
   "execution_count": null,
   "metadata": {
    "collapsed": true
   },
   "outputs": [],
   "source": []
  },
  {
   "cell_type": "code",
   "execution_count": 13,
   "metadata": {
    "collapsed": false,
    "scrolled": true
   },
   "outputs": [
    {
     "name": "stdout",
     "output_type": "stream",
     "text": [
      "Survived         0.000000\n",
      "PassengerId    447.016393\n",
      "Pclass           2.531876\n",
      "Age             30.626179\n",
      "SibSp            0.553734\n",
      "Parch            0.329690\n",
      "Fare            22.117887\n",
      "Name: 0, dtype: float64\n",
      "Survived         0.000000\n",
      "PassengerId    447.016393\n",
      "Pclass           2.531876\n",
      "Age             30.626179\n",
      "SibSp            0.553734\n",
      "Parch            0.329690\n",
      "Fare            22.117887\n",
      "Name: 0, dtype: float64\n"
     ]
    }
   ],
   "source": [
    "#test stuff\n",
    "print(survivor_groupings.mean().loc[0])\n",
    "print(survivor_groupings.mean().iloc[0])\n"
   ]
  },
  {
   "cell_type": "code",
   "execution_count": 14,
   "metadata": {
    "collapsed": false
   },
   "outputs": [
    {
     "name": "stdout",
     "output_type": "stream",
     "text": [
      "0.383838383838\n",
      "(314, 577)\n",
      "29.6991176471\n"
     ]
    }
   ],
   "source": [
    "#make function returning survival rates for a specific group\n",
    "\n",
    "def survivalRate(df):\n",
    "    lived = 0\n",
    "    died = 0\n",
    "    for index, member in df.iterrows():\n",
    "        if member['Survived'] == 1:\n",
    "            lived += 1\n",
    "        else:\n",
    "            died += 1\n",
    "    return lived / float(len(df))\n",
    "\n",
    "print(survivalRate(titanic_df))\n",
    "\n",
    "#gender rates\n",
    "\n",
    "def gender_rates(df):\n",
    "    females = 0\n",
    "    males = 0\n",
    "    for index, passenger in df.iterrows():\n",
    "        if passenger['Sex'] == 'female':\n",
    "            females += 1\n",
    "        else:\n",
    "            males += 1\n",
    "    return females, males\n",
    "\n",
    "print(gender_rates(titanic_df))\n",
    "\n",
    "def average_age(df):\n",
    "    return df['Age'].mean()\n",
    "\n",
    "print(average_age(titanic_df))\n",
    "            "
   ]
  },
  {
   "cell_type": "code",
   "execution_count": 15,
   "metadata": {
    "collapsed": false
   },
   "outputs": [
    {
     "data": {
      "text/plain": [
       "Index([u'PassengerId', u'Survived', u'Pclass', u'Name', u'Sex', u'Age',\n",
       "       u'SibSp', u'Parch', u'Ticket', u'Fare', u'Cabin', u'Embarked'],\n",
       "      dtype='object')"
      ]
     },
     "execution_count": 15,
     "metadata": {},
     "output_type": "execute_result"
    }
   ],
   "source": [
    "titanic_df.keys()\n",
    "#survivor_groupings.iloc[0]"
   ]
  },
  {
   "cell_type": "code",
   "execution_count": 23,
   "metadata": {
    "collapsed": false
   },
   "outputs": [
    {
     "name": "stdout",
     "output_type": "stream",
     "text": [
      "Sex\n",
      "female    (314, 0)\n",
      "male      (0, 577)\n",
      "dtype: object\n",
      "Sex\n",
      "female    0.742038\n",
      "male      0.188908\n",
      "dtype: float64\n",
      "Sex\n",
      "female    27.915709\n",
      "male      30.726645\n",
      "dtype: float64\n",
      "Sex\n",
      "female    0.742038\n",
      "male      0.188908\n",
      "Name: Survived, dtype: float64\n"
     ]
    }
   ],
   "source": [
    "#Survival Rates by gender\n",
    "\n",
    "gender_groups = titanic_df.groupby('Sex')\n",
    "print(gender_groups.apply(gender_rates))\n",
    "print(gender_groups.apply(survivalRate))\n",
    "print(gender_groups.apply(average_age))\n",
    "\n",
    "print(gender_groups['Survived'].mean())"
   ]
  },
  {
   "cell_type": "code",
   "execution_count": 17,
   "metadata": {
    "collapsed": false
   },
   "outputs": [
    {
     "name": "stdout",
     "output_type": "stream",
     "text": [
      "Pclass\n",
      "1     (94, 122)\n",
      "2     (76, 108)\n",
      "3    (144, 347)\n",
      "dtype: object\n",
      "Pclass\n",
      "1    0.629630\n",
      "2    0.472826\n",
      "3    0.242363\n",
      "dtype: float64\n",
      "Pclass\n",
      "1    38.233441\n",
      "2    29.877630\n",
      "3    25.140620\n",
      "dtype: float64\n"
     ]
    }
   ],
   "source": [
    "#gender and Survival rates by class\n",
    "\n",
    "ticket_groups = titanic_df.groupby('Pclass')\n",
    "print(ticket_groups.apply(gender_rates))\n",
    "print(ticket_groups.apply(survivalRate))\n",
    "print(ticket_groups.apply(average_age))"
   ]
  },
  {
   "cell_type": "code",
   "execution_count": null,
   "metadata": {
    "collapsed": false
   },
   "outputs": [],
   "source": [
    "\n",
    "\n",
    "\n",
    "\n"
   ]
  },
  {
   "cell_type": "code",
   "execution_count": null,
   "metadata": {
    "collapsed": true
   },
   "outputs": [],
   "source": []
  }
 ],
 "metadata": {
  "anaconda-cloud": {},
  "kernelspec": {
   "display_name": "Python [conda env:DAND]",
   "language": "python",
   "name": "conda-env-DAND-py"
  },
  "language_info": {
   "codemirror_mode": {
    "name": "ipython",
    "version": 2
   },
   "file_extension": ".py",
   "mimetype": "text/x-python",
   "name": "python",
   "nbconvert_exporter": "python",
   "pygments_lexer": "ipython2",
   "version": "2.7.12"
  }
 },
 "nbformat": 4,
 "nbformat_minor": 2
}
